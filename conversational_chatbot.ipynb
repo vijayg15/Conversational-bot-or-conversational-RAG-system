{
 "cells": [
  {
   "cell_type": "code",
   "execution_count": 1,
   "id": "1a5cd605",
   "metadata": {},
   "outputs": [],
   "source": [
    "import os\n",
    "\n",
    "from dotenv import load_dotenv"
   ]
  },
  {
   "cell_type": "code",
   "execution_count": 2,
   "id": "6b8c6bd9",
   "metadata": {},
   "outputs": [],
   "source": [
    "from langchain_community.vectorstores import FAISS\n",
    "from utils import load_embeddings, initialize_llm\n",
    "from prompt import contextualize_q_system_prompt, system_prompt\n",
    "\n",
    "\n",
    "from langchain.chains import create_history_aware_retriever\n",
    "from langchain_core.prompts import MessagesPlaceholder, ChatPromptTemplate\n",
    "\n",
    "from langchain.chains.combine_documents import create_stuff_documents_chain\n",
    "from langchain.chains import create_retrieval_chain\n",
    "\n",
    "from langchain_community.chat_message_histories import ChatMessageHistory\n",
    "from langchain_core.chat_history import BaseChatMessageHistory\n",
    "from langchain_core.runnables.history import RunnableWithMessageHistory"
   ]
  },
  {
   "cell_type": "code",
   "execution_count": 3,
   "id": "281822a0",
   "metadata": {},
   "outputs": [
    {
     "data": {
      "text/plain": [
       "True"
      ]
     },
     "execution_count": 3,
     "metadata": {},
     "output_type": "execute_result"
    }
   ],
   "source": [
    "load_dotenv()"
   ]
  },
  {
   "cell_type": "code",
   "execution_count": 4,
   "id": "6c4fcd4c",
   "metadata": {},
   "outputs": [],
   "source": [
    "os.environ['GOOGLE_API_KEY'] = os.environ.get('GOOGLE_API_KEY')\n",
    "os.environ['GROQ_API_KEY'] = os.environ.get('GROQ_API_KEY')"
   ]
  },
  {
   "cell_type": "code",
   "execution_count": 5,
   "id": "3048f724",
   "metadata": {},
   "outputs": [],
   "source": [
    "embeddings = load_embeddings(embd_type='GoogleGenAI')"
   ]
  },
  {
   "cell_type": "markdown",
   "id": "6019e731",
   "metadata": {},
   "source": [
    "## Load the persisted database from disk"
   ]
  },
  {
   "cell_type": "code",
   "execution_count": null,
   "id": "0a3f8bdf",
   "metadata": {},
   "outputs": [],
   "source": [
    "# load the VectorDB\n",
    "db_directory_path=\"Gale_Encyclopedia_of_Med_db\"\n",
    "docsearch = FAISS.load_local(db_directory_path, embeddings, allow_dangerous_deserialization=True)"
   ]
  },
  {
   "cell_type": "markdown",
   "id": "3a06fd1e",
   "metadata": {},
   "source": [
    "## Make a Retriever (Similarity Search)"
   ]
  },
  {
   "cell_type": "markdown",
   "id": "15f100f5",
   "metadata": {},
   "source": [
    "retriever = docsearch.as_retriever(search_type=\"similarity\", search_kwargs={\"k\":5}) "
   ]
  },
  {
   "cell_type": "code",
   "execution_count": null,
   "id": "8657bd10",
   "metadata": {},
   "outputs": [],
   "source": [
    "llm = initialize_llm(temp=0.6)"
   ]
  }
 ],
 "metadata": {
  "kernelspec": {
   "display_name": "genai",
   "language": "python",
   "name": "python3"
  },
  "language_info": {
   "codemirror_mode": {
    "name": "ipython",
    "version": 3
   },
   "file_extension": ".py",
   "mimetype": "text/x-python",
   "name": "python",
   "nbconvert_exporter": "python",
   "pygments_lexer": "ipython3",
   "version": "3.10.16"
  }
 },
 "nbformat": 4,
 "nbformat_minor": 5
}
