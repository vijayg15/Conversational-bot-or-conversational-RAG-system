{
 "cells": [
  {
   "cell_type": "code",
   "execution_count": 1,
   "id": "0b9c08d4",
   "metadata": {},
   "outputs": [],
   "source": [
    "import os\n",
    "import shutil\n",
    "\n",
    "from dotenv import load_dotenv"
   ]
  },
  {
   "cell_type": "code",
   "execution_count": 2,
   "id": "05e554bb",
   "metadata": {},
   "outputs": [],
   "source": [
    "from utils import load_documents, split_documents, load_embeddings\n",
    "\n",
    "from langchain_community.vectorstores import FAISS"
   ]
  },
  {
   "cell_type": "markdown",
   "id": "27faa0bc",
   "metadata": {},
   "source": [
    "## Setting up Environment"
   ]
  },
  {
   "cell_type": "code",
   "execution_count": 3,
   "id": "602dbd5f",
   "metadata": {},
   "outputs": [
    {
     "data": {
      "text/plain": [
       "True"
      ]
     },
     "execution_count": 3,
     "metadata": {},
     "output_type": "execute_result"
    }
   ],
   "source": [
    "load_dotenv()"
   ]
  },
  {
   "cell_type": "code",
   "execution_count": 4,
   "id": "32a068ab",
   "metadata": {},
   "outputs": [],
   "source": [
    "os.environ['GOOGLE_API_KEY'] = os.environ.get('GOOGLE_API_KEY')"
   ]
  },
  {
   "cell_type": "markdown",
   "id": "ea3d8793",
   "metadata": {},
   "source": [
    "## Load Data"
   ]
  },
  {
   "cell_type": "code",
   "execution_count": 5,
   "id": "74564d4c",
   "metadata": {},
   "outputs": [],
   "source": [
    "documents = load_documents(\"data/\")"
   ]
  },
  {
   "cell_type": "markdown",
   "id": "9a1d0d8a",
   "metadata": {},
   "source": [
    "## Convert into Chunks"
   ]
  },
  {
   "cell_type": "code",
   "execution_count": 6,
   "id": "6fd1d4ab",
   "metadata": {},
   "outputs": [],
   "source": [
    "text_chunks = split_documents(documents, ChunkSize=1024, ChunkOverlap=100)"
   ]
  },
  {
   "cell_type": "code",
   "execution_count": 7,
   "id": "22826052",
   "metadata": {},
   "outputs": [
    {
     "data": {
      "text/plain": [
       "21247"
      ]
     },
     "execution_count": 7,
     "metadata": {},
     "output_type": "execute_result"
    }
   ],
   "source": [
    "len(text_chunks)"
   ]
  },
  {
   "cell_type": "markdown",
   "id": "ab28063e",
   "metadata": {},
   "source": [
    "## Creating DB"
   ]
  },
  {
   "cell_type": "code",
   "execution_count": 8,
   "id": "9dd04ee0",
   "metadata": {},
   "outputs": [],
   "source": [
    "embeddings = load_embeddings(embd_type='GoogleGenAI')"
   ]
  },
  {
   "cell_type": "code",
   "execution_count": 9,
   "id": "9eb8a491",
   "metadata": {},
   "outputs": [
    {
     "data": {
      "text/plain": [
       "768"
      ]
     },
     "execution_count": 9,
     "metadata": {},
     "output_type": "execute_result"
    }
   ],
   "source": [
    "len(embeddings.embed_query('How are you?'))"
   ]
  },
  {
   "cell_type": "code",
   "execution_count": null,
   "id": "765f6d1e",
   "metadata": {},
   "outputs": [],
   "source": [
    "vectordb = FAISS.from_documents(text_chunks, embeddings)"
   ]
  },
  {
   "cell_type": "code",
   "execution_count": null,
   "id": "e601b862",
   "metadata": {},
   "outputs": [],
   "source": [
    "# Saving VectorDB to local disk\n",
    "db_path=\"Gale_Encyclopedia_of_Med_db\"\n",
    "if os.path.exists(db_path):\n",
    "    shutil.rmtree(db_path)\n",
    "vectordb.save_local(db_path)"
   ]
  },
  {
   "cell_type": "code",
   "execution_count": null,
   "id": "48502ada",
   "metadata": {},
   "outputs": [],
   "source": []
  }
 ],
 "metadata": {
  "kernelspec": {
   "display_name": "genai",
   "language": "python",
   "name": "python3"
  },
  "language_info": {
   "codemirror_mode": {
    "name": "ipython",
    "version": 3
   },
   "file_extension": ".py",
   "mimetype": "text/x-python",
   "name": "python",
   "nbconvert_exporter": "python",
   "pygments_lexer": "ipython3",
   "version": "3.10.16"
  }
 },
 "nbformat": 4,
 "nbformat_minor": 5
}
